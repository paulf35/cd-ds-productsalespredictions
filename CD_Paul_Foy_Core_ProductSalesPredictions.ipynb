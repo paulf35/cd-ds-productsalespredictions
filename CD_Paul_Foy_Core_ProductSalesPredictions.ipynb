{
  "nbformat": 4,
  "nbformat_minor": 0,
  "metadata": {
    "colab": {
      "provenance": [],
      "authorship_tag": "ABX9TyNZsipQFhNZ36MDR2yIG037",
      "include_colab_link": true
    },
    "kernelspec": {
      "name": "python3",
      "display_name": "Python 3"
    },
    "language_info": {
      "name": "python"
    }
  },
  "cells": [
    {
      "cell_type": "markdown",
      "metadata": {
        "id": "view-in-github",
        "colab_type": "text"
      },
      "source": [
        "<a href=\"https://colab.research.google.com/github/paulf35/cd-ds-productsalespredictions/blob/main/CD_Paul_Foy_Core_ProductSalesPredictions.ipynb\" target=\"_parent\"><img src=\"https://colab.research.google.com/assets/colab-badge.svg\" alt=\"Open In Colab\"/></a>"
      ]
    },
    {
      "cell_type": "markdown",
      "source": [
        "# Prediction of Product Sales\n",
        "Paul Foy\n"
      ],
      "metadata": {
        "id": "SV-EeUHGmlxL"
      }
    },
    {
      "cell_type": "markdown",
      "source": [
        "## Project Overview"
      ],
      "metadata": {
        "id": "jLwZBvPdnI8n"
      }
    },
    {
      "cell_type": "markdown",
      "source": [
        "## Load and Inspect Data"
      ],
      "metadata": {
        "id": "fmhVR_5KnNdf"
      }
    },
    {
      "cell_type": "code",
      "source": [],
      "metadata": {
        "id": "vPa4JNp6nHM_"
      },
      "execution_count": null,
      "outputs": []
    },
    {
      "cell_type": "markdown",
      "source": [
        "## Clean Data"
      ],
      "metadata": {
        "id": "xK2CFf6BnaC5"
      }
    },
    {
      "cell_type": "code",
      "source": [],
      "metadata": {
        "id": "_npVJn1Knb7h"
      },
      "execution_count": null,
      "outputs": []
    },
    {
      "cell_type": "markdown",
      "source": [
        "## Exploratory Data Analysis"
      ],
      "metadata": {
        "id": "EPKap6cqncdB"
      }
    },
    {
      "cell_type": "code",
      "source": [],
      "metadata": {
        "id": "JHU5VQifnfiR"
      },
      "execution_count": null,
      "outputs": []
    },
    {
      "cell_type": "markdown",
      "source": [
        "## Explanatory Data Analysis"
      ],
      "metadata": {
        "id": "MLG1nNCKnf2h"
      }
    },
    {
      "cell_type": "code",
      "source": [],
      "metadata": {
        "id": "6VQsFGEyni_x"
      },
      "execution_count": null,
      "outputs": []
    }
  ]
}